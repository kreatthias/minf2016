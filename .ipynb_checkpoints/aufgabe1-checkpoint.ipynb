{
 "cells": [
  {
   "cell_type": "code",
   "execution_count": 2,
   "metadata": {
    "collapsed": false
   },
   "outputs": [],
   "source": []
  },
  {
   "cell_type": "code",
   "execution_count": 162,
   "metadata": {
    "collapsed": false
   },
   "outputs": [],
   "source": [
    "from PIL import Image\n",
    "import numpy as np\n",
    "import matplotlib.pyplot as plt\n",
    "import matplotlib.cm as cm\n",
    "import matplotlib.colors as colors\n",
    "from scipy.signal import convolve2d\n",
    "import os\n",
    "\n",
    "def isShadeOfGrey(value):\n",
    "    return (value[0] == value[1] == value[2])\n",
    "\n",
    "adjacentPixels = [\n",
    "        [-1,-1],\n",
    "        [-1, 0],\n",
    "        [-1, 1],\n",
    "        [ 0,-1],\n",
    "        [ 0, 1],\n",
    "        [ 1,-1],\n",
    "        [ 1, 0],\n",
    "        [ 1, 1]\n",
    "    ]\n",
    "\n",
    "def cleanPixelFromAdjacent(pixels, x, y, w, h): \n",
    "    if (isShadeOfGrey(pixels[y,x])):\n",
    "        return\n",
    "    \n",
    "    adjacentGreyColorValues = []\n",
    "    for xDiff, yDiff in adjacentPixels:\n",
    "        adjacentX = x+xDiff\n",
    "        adjacentY = y+yDiff    \n",
    "        if (adjacentPixelIsInBounds(adjacentX, adjacentY, w, h)):\n",
    "            adjacentValue = pixels[adjacentY][adjacentX]\n",
    "            if (isShadeOfGrey(adjacentValue)):\n",
    "                adjacentGreyColorValues.append(adjacentValue)\n",
    "    \n",
    "    if (len(adjacentGreyColorValues) == 0):\n",
    "        return\n",
    "    \n",
    "    newPixelValue = 0\n",
    "    for c in adjacentGreyColorValues:\n",
    "        newPixelValue += c[0]\n",
    "    newPixelValue = newPixelValue / len(adjacentGreyColorValues)\n",
    "    \n",
    "    pixelColor = pixels[y,x]\n",
    "    pixelColor[0] = newPixelValue\n",
    "    pixelColor[1] = newPixelValue\n",
    "    pixelColor[2] = newPixelValue\n",
    "    \n",
    "def adjacentPixelIsInBounds(x,y,w,h):\n",
    "    return (x >= 0 and x < w) and (y >= 0 and y < h)\n",
    "\n",
    "def clean(pathFrom, pathTo):\n",
    "    pic = Image.open(pathFrom)\n",
    "    w, h = pic.size\n",
    "    pixels = np.array(pic)\n",
    "    for x in range(w):\n",
    "        for y in range(h):\n",
    "            cleanPixelFromAdjacent(pixels, x, y, w, h)\n",
    "    picClean = Image.fromarray(pixels)\n",
    "    picClean.save(pathTo)\n",
    "    \n",
    "clean('c:/Users/Matze/projects/JupyterNotebooks/dirty/horse_dirty2.png', \"c:/Users/Matze/projects/JupyterNotebooks/dirty/horse_dirty2_clean.png\")"
   ]
  },
  {
   "cell_type": "code",
   "execution_count": 161,
   "metadata": {
    "collapsed": false
   },
   "outputs": [
    {
     "name": "stdout",
     "output_type": "stream",
     "text": [
      "533\n"
     ]
    }
   ],
   "source": [
    "clean('c:/Users/Matze/projects/JupyterNotebooks/dirty/horse_dirty2.png', \"c:/Users/Matze/projects/JupyterNotebooks/dirty/horse_dirty2_clean.png\")"
   ]
  },
  {
   "cell_type": "code",
   "execution_count": null,
   "metadata": {
    "collapsed": true
   },
   "outputs": [],
   "source": []
  }
 ],
 "metadata": {
  "anaconda-cloud": {},
  "kernelspec": {
   "display_name": "Python [Root]",
   "language": "python",
   "name": "Python [Root]"
  },
  "language_info": {
   "codemirror_mode": {
    "name": "ipython",
    "version": 3
   },
   "file_extension": ".py",
   "mimetype": "text/x-python",
   "name": "python",
   "nbconvert_exporter": "python",
   "pygments_lexer": "ipython3",
   "version": "3.5.1"
  }
 },
 "nbformat": 4,
 "nbformat_minor": 0
}
