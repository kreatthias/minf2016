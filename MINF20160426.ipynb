{
 "cells": [
  {
   "cell_type": "code",
   "execution_count": 1,
   "metadata": {
    "collapsed": false
   },
   "outputs": [
    {
     "data": {
      "text/plain": [
       "<matplotlib.image.AxesImage at 0xbb787e9828>"
      ]
     },
     "execution_count": 1,
     "metadata": {},
     "output_type": "execute_result"
    },
    {
     "data": {
      "image/png": "[encoded data removed]",
      "text/plain": [
       "<matplotlib.figure.Figure at 0xbb786efba8>"
      ]
     },
     "metadata": {},
     "output_type": "display_data"
    }
   ],
   "source": [
    "import numpy as np\n",
    "import matplotlib.pyplot as plt\n",
    "import matplotlib.cm as cm\n",
    "from PIL import Image\n",
    "\n",
    "def line(arr, x1, y1, x2, y2):\n",
    "    dx = abs(x2 - x1)\n",
    "    sx = 1 if x1 < x2 else -1\n",
    "    dy = -abs(y2 - y1)\n",
    "    sy = 1 if y1 < y2 else -1\n",
    "    err = dx + dy\n",
    "    \n",
    "    while True:\n",
    "        arr[x1, y1] = 0\n",
    "        if x1 == x2 and y1 == y2:\n",
    "            break\n",
    "        e2 = 2 * err\n",
    "        if (e2 > dy):\n",
    "            err += dy\n",
    "            x1 += sx\n",
    "        if (e2 < dx):\n",
    "            err += dx\n",
    "            y1 += sy\n",
    "            \n",
    "def rectangle(arr, a, b, c):\n",
    "    line(arr, *a, *b)\n",
    "    line(arr, *b, *c)\n",
    "    d = (c[0] + a[0] - b[0], c[1] + a[1] - b[1])\n",
    "    line(arr, *c, *d)\n",
    "    line(arr, *d, *a)\n",
    "    \n",
    "a = np.full((25, 25), 255, 'int')\n",
    "rectangle(a, (6,2), (21,12), (17,18))\n",
    "plt.matshow(a, cmap=cm.gray, origin=\"lower\")"
   ]
  },
  {
   "cell_type": "code",
   "execution_count": 2,
   "metadata": {
    "collapsed": true
   },
   "outputs": [],
   "source": [
    "def originRotationMatrix(angle):\n",
    "    return np.array([[np.cos(angle), -np.sin(angle), 0],\n",
    "                     [np.sin(angle), np.cos(angle), 0],\n",
    "                     [0, 0, 1]])\n",
    "def translationMatrix(vx, vy):\n",
    "    return np.array([[1, 0, vx],\n",
    "                     [0, 1, vy],\n",
    "                     [0, 0, 1]])\n",
    "def rotationMatrix(centerX, centerY, angle):\n",
    "    return np.dot(np.dot(translationMatrix(centerX, centerY),\n",
    "                        originRotationMatrix(angle)),\n",
    "                 translationMatrix(-centerX, -centerY))\n",
    "def originScaleMatrix(scaleX, scaleY):\n",
    "    return np.array([[scaleX, 0, 0],\n",
    "                    [0, scaleY, 0],\n",
    "                    [0, 0, 1]])\n",
    "def scaleMatrix(centerX, centerY, scaleX, scaleY=None):\n",
    "    if scaleY == None:\n",
    "        scaleY = scaleX\n",
    "    return np.dot(np.dot(translationMatrix(centerX, centerY),\n",
    "                        originScaleMatrix(scaleX, scaleY)),\n",
    "                 translationMatrix(-centerX, -centerY))        "
   ]
  },
  {
   "cell_type": "code",
   "execution_count": 6,
   "metadata": {
    "collapsed": false
   },
   "outputs": [],
   "source": [
    "R = rotationMatrix(3, 4, np.pi / 4)"
   ]
  },
  {
   "cell_type": "code",
   "execution_count": 5,
   "metadata": {
    "collapsed": false
   },
   "outputs": [],
   "source": [
    "def transformation(M):\n",
    "    return lambda vec: np.round(np.dot(M, [*vec, 1])).astype(\"int\")[0:2]"
   ]
  },
  {
   "cell_type": "code",
   "execution_count": 7,
   "metadata": {
    "collapsed": true
   },
   "outputs": [],
   "source": [
    "f = transformation(R)"
   ]
  },
  {
   "cell_type": "code",
   "execution_count": 8,
   "metadata": {
    "collapsed": false
   },
   "outputs": [
    {
     "data": {
      "text/plain": [
       "array([27, 39])"
      ]
     },
     "execution_count": 8,
     "metadata": {},
     "output_type": "execute_result"
    }
   ],
   "source": [
    "f([45, 12])"
   ]
  },
  {
   "cell_type": "code",
   "execution_count": 9,
   "metadata": {
    "collapsed": false
   },
   "outputs": [
    {
     "data": {
      "text/plain": [
       "<matplotlib.image.AxesImage at 0xbb789e0400>"
      ]
     },
     "execution_count": 9,
     "metadata": {},
     "output_type": "execute_result"
    },
    {
     "data": {
      "image/png": "[encoded data removed]",
      "text/plain": [
       "<matplotlib.figure.Figure at 0xbb786da9e8>"
      ]
     },
     "metadata": {},
     "output_type": "display_data"
    }
   ],
   "source": [
    "a = np.full((100,100), 255, 'int')\n",
    "rect = [(20,20), (80,20), (80,80)]\n",
    "rectangle(a, *rect)\n",
    "plt.matshow(a, cmap=cm.gray, origin='lower')"
   ]
  },
  {
   "cell_type": "code",
   "execution_count": 10,
   "metadata": {
    "collapsed": false
   },
   "outputs": [
    {
     "data": {
      "text/plain": [
       "<matplotlib.image.AxesImage at 0xbb78a62128>"
      ]
     },
     "execution_count": 10,
     "metadata": {},
     "output_type": "execute_result"
    },
    {
     "data": {
      "image/png": "[encoded data removed]",
      "text/plain": [
       "<matplotlib.figure.Figure at 0xbb789eedd8>"
      ]
     },
     "metadata": {},
     "output_type": "display_data"
    }
   ],
   "source": [
    "rectangle(a, *list(map(transformation(rotationMatrix(50, 50, np.pi/6)), rect)))\n",
    "plt.matshow(a, cmap=cm.gray, origin='lower')"
   ]
  },
  {
   "cell_type": "code",
   "execution_count": 11,
   "metadata": {
    "collapsed": true
   },
   "outputs": [],
   "source": [
    "from images2gif import writeGif"
   ]
  },
  {
   "cell_type": "code",
   "execution_count": 13,
   "metadata": {
    "collapsed": true
   },
   "outputs": [],
   "source": [
    "rect = [(40,40), (260,40), (260,260)]\n",
    "a = np.full((300, 300), 255, 'int')\n",
    "\n",
    "def rectImg(angle, scale):\n",
    "    rectangle(a, *list(map(transformation(scaleMatrix(150,150,scale)),\n",
    "                           map(transformation(rotationMatrix(150,150,angle)),\n",
    "                           rect))))\n",
    "    return a.copy()"
   ]
  },
  {
   "cell_type": "code",
   "execution_count": 14,
   "metadata": {
    "collapsed": true
   },
   "outputs": [],
   "source": [
    "steps = 100\n",
    "images = [rectImg(0.5 * np.pi * i/steps,\n",
    "                  1 - 0.7 * i/steps) for i in range(steps)]\n",
    "images += list(reversed(images))\n",
    "writeGif(\"spiro.gif\", images, repeat=1, duration=0.2)"
   ]
  },
  {
   "cell_type": "markdown",
   "metadata": {},
   "source": [
    "![](spiro.gif)"
   ]
  },
  {
   "cell_type": "code",
   "execution_count": 15,
   "metadata": {
    "collapsed": false
   },
   "outputs": [
    {
     "data": {
      "text/plain": [
       "[<matplotlib.lines.Line2D at 0xbb78be1fd0>]"
      ]
     },
     "execution_count": 15,
     "metadata": {},
     "output_type": "execute_result"
    },
    {
     "data": {
      "image/png": "[encoded data removed]",
      "text/plain": [
       "<matplotlib.figure.Figure at 0xbb78be1f60>"
      ]
     },
     "metadata": {},
     "output_type": "display_data"
    }
   ],
   "source": [
    "t = np.linspace(0, 2 * np.pi, 100)\n",
    "x = np.cos(t)\n",
    "y = np.sin(t)\n",
    "plt.axis(\"scaled\")\n",
    "plt.axis([-1.2,1.2,-1.2,1.2])\n",
    "plt.plot(x, y)"
   ]
  },
  {
   "cell_type": "code",
   "execution_count": 17,
   "metadata": {
    "collapsed": false
   },
   "outputs": [
    {
     "data": {
      "text/plain": [
       "[<matplotlib.lines.Line2D at 0xbb78b15198>]"
      ]
     },
     "execution_count": 17,
     "metadata": {},
     "output_type": "execute_result"
    },
    {
     "data": {
      "image/png": "[encoded data removed]",
      "text/plain": [
       "<matplotlib.figure.Figure at 0xbb78be2550>"
      ]
     },
     "metadata": {},
     "output_type": "display_data"
    }
   ],
   "source": [
    "plt.axis(\"scaled\")\n",
    "plt.axis([-1.2,1.2,-1.2,1.2])\n",
    "plt.plot(x[:40], y[:40])"
   ]
  },
  {
   "cell_type": "code",
   "execution_count": 18,
   "metadata": {
    "collapsed": false
   },
   "outputs": [
    {
     "data": {
      "text/plain": [
       "[<matplotlib.lines.Line2D at 0xbb78b42e10>]"
      ]
     },
     "execution_count": 18,
     "metadata": {},
     "output_type": "execute_result"
    },
    {
     "data": {
      "image/png": "[encoded data removed]",
      "text/plain": [
       "<matplotlib.figure.Figure at 0xbb78b42ef0>"
      ]
     },
     "metadata": {},
     "output_type": "display_data"
    }
   ],
   "source": [
    "t = np.linspace(0, 1, 100)\n",
    "xC = np.cos(2 * np.pi * t)\n",
    "yC = np.sin(2 * np.pi * t)\n",
    "plt.axis(\"scaled\")\n",
    "plt.axis([-1.2,1.2,-1.2,1.2])\n",
    "plt.plot(xC, yC)"
   ]
  },
  {
   "cell_type": "code",
   "execution_count": 19,
   "metadata": {
    "collapsed": false
   },
   "outputs": [
    {
     "data": {
      "text/plain": [
       "[<matplotlib.lines.Line2D at 0xbb7cd81ba8>]"
      ]
     },
     "execution_count": 19,
     "metadata": {},
     "output_type": "execute_result"
    },
    {
     "data": {
      "image/png": "[encoded data removed]",
      "text/plain": [
       "<matplotlib.figure.Figure at 0xbb7cd81b70>"
      ]
     },
     "metadata": {},
     "output_type": "display_data"
    }
   ],
   "source": [
    "t = np.linspace(0, 1, 100)\n",
    "xA = np.cos(2 * np.pi * t)**3\n",
    "yA = np.sin(2 * np.pi * t)**3\n",
    "plt.axis(\"scaled\")\n",
    "plt.axis([-1.2,1.2,-1.2,1.2])\n",
    "plt.plot(xA, yA)"
   ]
  },
  {
   "cell_type": "code",
   "execution_count": 20,
   "metadata": {
    "collapsed": true
   },
   "outputs": [],
   "source": [
    "def showBetween(t):\n",
    "    fig = plt.figure()\n",
    "    plt.axis(\"off\")\n",
    "    plt.axis(\"scaled\")\n",
    "    plt.axis([-1.2, 1.2, -1.2, 1.2])\n",
    "    plt.plot(t * xC + (1-t) * xA, t * yC + (1-t) * yA)\n",
    "    return fig"
   ]
  },
  {
   "cell_type": "code",
   "execution_count": 21,
   "metadata": {
    "collapsed": false
   },
   "outputs": [
    {
     "data": {
      "image/png": "[encoded data removed]",
      "text/plain": [
       "<matplotlib.figure.Figure at 0xbb7cdad080>"
      ]
     },
     "metadata": {},
     "output_type": "display_data"
    }
   ],
   "source": [
    "showBetween(0)\n",
    "None"
   ]
  },
  {
   "cell_type": "code",
   "execution_count": 22,
   "metadata": {
    "collapsed": false
   },
   "outputs": [
    {
     "data": {
      "image/png": "[encoded data removed]",
      "text/plain": [
       "<matplotlib.figure.Figure at 0xbb7ce4c048>"
      ]
     },
     "execution_count": 22,
     "metadata": {},
     "output_type": "execute_result"
    },
    {
     "data": {
      "image/png": "[encoded data removed]",
      "text/plain": [
       "<matplotlib.figure.Figure at 0xbb7ce4c048>"
      ]
     },
     "metadata": {},
     "output_type": "display_data"
    }
   ],
   "source": [
    "showBetween(1)"
   ]
  },
  {
   "cell_type": "code",
   "execution_count": 24,
   "metadata": {
    "collapsed": false
   },
   "outputs": [
    {
     "data": {
      "image/png": "[encoded data removed]",
      "text/plain": [
       "<matplotlib.figure.Figure at 0xbb7cefa358>"
      ]
     },
     "metadata": {},
     "output_type": "display_data"
    }
   ],
   "source": [
    "showBetween(0.2)\n",
    "None"
   ]
  },
  {
   "cell_type": "code",
   "execution_count": 25,
   "metadata": {
    "collapsed": false
   },
   "outputs": [
    {
     "data": {
      "image/png": "[encoded data removed]",
      "text/plain": [
       "<matplotlib.figure.Figure at 0xbb7cf53400>"
      ]
     },
     "metadata": {},
     "output_type": "display_data"
    }
   ],
   "source": [
    "showBetween(0.7)\n",
    "None"
   ]
  },
  {
   "cell_type": "code",
   "execution_count": 28,
   "metadata": {
    "collapsed": true
   },
   "outputs": [],
   "source": [
    "def picBetween(t):\n",
    "    canvas = showBetween(t).canvas\n",
    "    canvas.draw()\n",
    "    arr = np.fromstring(canvas.tostring_rgb(), dtype=np.uint8)\n",
    "    plt.close()\n",
    "    w, h = canvas.get_width_height()\n",
    "    return arr.reshape(h, w, 3)"
   ]
  },
  {
   "cell_type": "code",
   "execution_count": 29,
   "metadata": {
    "collapsed": false
   },
   "outputs": [],
   "source": [
    "images = [picBetween(t) for t in np.linspace(0, 1, 50)]\n",
    "images += list(reversed(images))\n",
    "writeGif(\"Astroide.gif\", images)"
   ]
  },
  {
   "cell_type": "markdown",
   "metadata": {},
   "source": [
    "![](Astroide.gif)"
   ]
  },
  {
   "cell_type": "code",
   "execution_count": null,
   "metadata": {
    "collapsed": true
   },
   "outputs": [],
   "source": []
  }
 ],
 "metadata": {
  "kernelspec": {
   "display_name": "Python 3",
   "language": "python",
   "name": "python3"
  },
  "language_info": {
   "codemirror_mode": {
    "name": "ipython",
    "version": 3
   },
   "file_extension": ".py",
   "mimetype": "text/x-python",
   "name": "python",
   "nbconvert_exporter": "python",
   "pygments_lexer": "ipython3",
   "version": "3.5.1"
  }
 },
 "nbformat": 4,
 "nbformat_minor": 0
}
